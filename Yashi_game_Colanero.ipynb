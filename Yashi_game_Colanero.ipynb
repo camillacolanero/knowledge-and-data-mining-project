{
  "nbformat": 4,
  "nbformat_minor": 0,
  "metadata": {
    "colab": {
      "provenance": []
    },
    "kernelspec": {
      "name": "python3",
      "display_name": "Python 3"
    },
    "language_info": {
      "name": "python"
    }
  },
  "cells": [
    {
      "cell_type": "markdown",
      "source": [
        "# *Introduction*\n",
        "\n",
        "With this project we aim to find a minimum-length solution of a configuration G\n",
        "of the Yashi game, if it exists, using a SAT encoding.\n",
        "\n",
        "An instance of the Yashi game is specifid by a $n\\times n$ integer grid for some $n>2$, on which $p>2$ nodes are placed. A solution of the game consists in drawing horizontal and vertical segments, satisfying the following conditions:\n",
        "\n",
        "\n",
        "1.   No two segments cross each other;\n",
        "2.   The segments form a tree, i.e. they form a graph without cycles. Put differently, for every two nodes a and b there is exactly one path between a and b.\n",
        "\n",
        "We'll start by defining some functions for the creation of hard and soft clauses and then we'll see some examples of the finding of a solution."
      ],
      "metadata": {
        "id": "Cq23dsuUnNTH"
      }
    },
    {
      "cell_type": "markdown",
      "source": [
        "# *Import of the libraries*\n",
        "\n",
        "We import some libraries that we are going to use in the definition of the functions."
      ],
      "metadata": {
        "id": "hubO0ajBoL2Q"
      }
    },
    {
      "cell_type": "code",
      "source": [
        "!pip install python-sat"
      ],
      "metadata": {
        "id": "5xwPt6G7dOaN"
      },
      "execution_count": null,
      "outputs": []
    },
    {
      "cell_type": "code",
      "source": [
        "import random\n",
        "import matplotlib.pyplot as plt\n",
        "from itertools import combinations\n",
        "from pysat.examples.rc2 import RC2\n",
        "from pysat.formula import WCNF\n",
        "random.seed(124)"
      ],
      "metadata": {
        "id": "x4jtE7BZa44P"
      },
      "execution_count": null,
      "outputs": []
    },
    {
      "cell_type": "markdown",
      "source": [
        "# Definition of Functions\n",
        "\n",
        "## *Initial setting*\n",
        "\n",
        "At first, we create a grid $n\\times n$ with $n_{points}$, where both $n$ and $n_{points}$ are decided by the player, based on the difficulty of the game. The $n_{points}$ are generated randomly on the grid."
      ],
      "metadata": {
        "id": "_wzyNntyofiZ"
      }
    },
    {
      "cell_type": "code",
      "execution_count": null,
      "metadata": {
        "id": "jsXQ6ck5Zq10"
      },
      "outputs": [],
      "source": [
        "def random_start(n=2, n_points=2):\n",
        "  # Create a list of random points\n",
        "  unordered_points = []\n",
        "  while len(unordered_points) < n_points:\n",
        "      x = random.randint(1, n-1)\n",
        "      y = random.randint(1, n-1)\n",
        "      if (x,y) not in unordered_points:\n",
        "        unordered_points.append((x, y))\n",
        "  points = sorted(unordered_points, key=lambda x: (x[0], x[1]))\n",
        "  # Create a list of the vertical and horizontal links between the points\n",
        "  links = []\n",
        "  for i in range(len(points) - 1):\n",
        "    k=0\n",
        "    h=0\n",
        "    for j in range(i + 1, len(points)):\n",
        "      if points[i][0] == points[j][0] and h < 1:\n",
        "        links.append(((points[i][0], points[i][1]),(points[j][0],points[j][1]))) #we insert the horizontal links between two points\n",
        "        h = 1  # this number guardantees that one point is linked only to the closest one\n",
        "      elif points[i][1] == points[j][1] and k < 1:\n",
        "        links.append(((points[i][0], points[i][1]),(points[j][0],points[j][1]))) #we insert the vertical links between two points\n",
        "        k = 1\n",
        "  return points, links\n",
        "\n"
      ]
    },
    {
      "cell_type": "code",
      "source": [
        "def graphical_implementation(n, initial_points):\n",
        "    # Create a figure and axis\n",
        "    fig, ax = plt.subplots()\n",
        "\n",
        "    # Plot vertical grid lines\n",
        "    for i in range(n + 1):\n",
        "        ax.axvline(x = i, color = '#C1CDCD', linestyle = '--', linewidth = 1)\n",
        "\n",
        "    # Plot horizontal grid lines\n",
        "    for i in range(n + 1):\n",
        "        ax.axhline(y = i, color = '#C1CDCD', linestyle = '--', linewidth = 1)\n",
        "\n",
        "    # Set axis limits and labels\n",
        "    ax.set_xlim(0, n)\n",
        "    ax.set_ylim(0, n)\n",
        "    ax.set_xticks(range(n + 1))\n",
        "    ax.set_yticks(range(n + 1))\n",
        "\n",
        "\n",
        "    # Remove axis labels\n",
        "    ax.set_xticklabels([])\n",
        "    ax.set_yticklabels([])\n",
        "\n",
        "    # Display the grid\n",
        "    plt.grid(True)\n",
        "\n",
        "    for point in initial_points:\n",
        "        x, y = point\n",
        "        ax.scatter(x, y, color = 'black', marker = 'o')\n",
        "\n",
        "    plt.show()"
      ],
      "metadata": {
        "id": "OujQneINfM3Z"
      },
      "execution_count": null,
      "outputs": []
    },
    {
      "cell_type": "markdown",
      "source": [
        "## *Creation of variables*\n",
        "\n",
        "We then create a function that gives a unique index to each segment that links two points that can be linked (two points that are on the same horizontal or vertical line and that are the closest to each other). In this way we are going to create the clauses that will tell if the $i$-th link is present or not in the solution (e.g. if we have -1 it means that the first link will not be present in the solution).   \n",
        "\n",
        "In order to go back from the index to the link, we define also the inverse function that, given an index, returns the link that it refers to. We are going to use this for the graphical implementation of the solution."
      ],
      "metadata": {
        "id": "ia5tjo2lrfhD"
      }
    },
    {
      "cell_type": "code",
      "source": [
        "# we give an index at each link that we have in the links list\n",
        "\n",
        "def v(edge, links):\n",
        "  if edge in links:\n",
        "    index = links.index(edge)\n",
        "  else:\n",
        "    edge = (edge[1], edge[0])\n",
        "    index = links.index(edge)\n",
        "  return index + 1"
      ],
      "metadata": {
        "id": "VIUGuwkodHqn"
      },
      "execution_count": null,
      "outputs": []
    },
    {
      "cell_type": "code",
      "source": [
        "# we define also the inverse function in order to draw the right links at the end\n",
        "\n",
        "def find_link(index, links):\n",
        "  for edge in links:\n",
        "    if v(edge, links) == index:\n",
        "      return edge"
      ],
      "metadata": {
        "id": "dPJbi0jplrCy"
      },
      "execution_count": null,
      "outputs": []
    },
    {
      "cell_type": "markdown",
      "source": [
        "## *No crossing links*\n",
        "\n",
        "We define a function that creates a list of clauses in order to not have that two links cross each other. This is an hard kind of clause.\n",
        "\n",
        "Therefore, if we have for example that the links 1 and 7 cross each other, we will have the clause\n",
        "\n",
        " $$\\neg{link_1} \\lor \\neg{link_7}$$"
      ],
      "metadata": {
        "id": "jdbRAqJ-uQkI"
      }
    },
    {
      "cell_type": "code",
      "source": [
        "#we define the constraints if we have that two links are crossing. In that case we cannot have them both.\n",
        "def vectors_crossing_constraints(links):\n",
        "  clauses=[]\n",
        "  for i in range(len(links)-1): #example\n",
        "    for j in range(i + 1, len(links)):\n",
        "      if links[i][0][1] == links[i][1][1] and links[j][0][0] > links[i][0][0] and links[j][0][0] < links[i][1][0] and links[j][0][1]< links[i][0][1] and links[j][1][1]>links[i][0][1]:\n",
        "        clauses.append([-v(links[i],links), -v(links[j],links)])\n",
        "  return clauses\n"
      ],
      "metadata": {
        "id": "Ud77quxSfq8s"
      },
      "execution_count": null,
      "outputs": []
    },
    {
      "cell_type": "markdown",
      "source": [
        "## *No cycles*\n",
        "We define a function that creates a list of clauses in order to not have links that create a cycle. Those are hard clauses.\n",
        "\n",
        "For example, if the links 1,5,6,7 and 8 create a cycle, the clause will be:\n",
        "\n",
        "$$\\neg{link_1} \\lor \\neg{link_5} \\lor \\neg{link_6} \\lor \\neg{link_7} \\lor \\neg{link_8} $$\n",
        "\n",
        "In order to facilitate the definition of this function, we previously create the graph representation of our links."
      ],
      "metadata": {
        "id": "-uRXOtopvjJ-"
      }
    },
    {
      "cell_type": "code",
      "source": [
        "# we define the constraints for a cycle\n",
        "# first we need to create a graph representation:\n",
        "\n",
        "def graph_representation(links, points):\n",
        "  graph = {}\n",
        "  for link in links:\n",
        "    a, b = link\n",
        "    if a not in graph:\n",
        "        graph[a] = []\n",
        "    graph[a].append(b)\n",
        "    if b not in graph:\n",
        "        graph[b] = []\n",
        "    graph[b].append(a)\n",
        "  if len(graph) < len(points):\n",
        "    points_in_graph=[i for i in graph]\n",
        "    solitary_points = [x for x in points if x not in points_in_graph]\n",
        "    for i in solitary_points:\n",
        "      graph[i]=[]\n",
        "  return graph\n"
      ],
      "metadata": {
        "id": "t_l8Ccb7fxD9"
      },
      "execution_count": null,
      "outputs": []
    },
    {
      "cell_type": "code",
      "source": [
        "# we then define a function that finds all the cycles that are present in the yashi configuration\n",
        "def find_all_cycles(graph):\n",
        "    def dfs(node, visited, stack):\n",
        "        visited[node] = True\n",
        "        stack.append(node)\n",
        "        if node in graph:\n",
        "            for neighbor in graph[node]:\n",
        "                if not visited[neighbor]:\n",
        "                    dfs(neighbor, visited, stack)\n",
        "                elif neighbor in stack:\n",
        "                    cycle = stack[stack.index(neighbor):]\n",
        "                    if len(cycle)>=3:\n",
        "                      edges = [(cycle[i], cycle[i+1]) for i in range(len(cycle)-1)]\n",
        "                      edges = edges + [(cycle[0], cycle[-1])]\n",
        "                      cycle_reordered = sorted(cycle, key=lambda x: (x[0], x[1]))\n",
        "                      if cycle_reordered not in cycles:\n",
        "                        edge.append(edges)\n",
        "                        cycles.append(cycle_reordered)\n",
        "\n",
        "\n",
        "        stack.pop()\n",
        "        visited[node] = False\n",
        "\n",
        "    visited = {node: False for node in graph}\n",
        "    cycles = []\n",
        "    edge = []\n",
        "\n",
        "    for node in graph:\n",
        "        if not visited[node]:\n",
        "            dfs(node, visited, [])\n",
        "    edges_sorted=[]\n",
        "    for i in range(len(edge)):\n",
        "        edges_sorted.append([])\n",
        "        for j in range(len(edge[i])):\n",
        "          new_tuple= sorted(edge[i][j], key=lambda x: (x[0], x[1]))\n",
        "          edges_sorted[i].append(tuple(new_tuple))\n",
        "    edges_sorted\n",
        "    return edges_sorted"
      ],
      "metadata": {
        "id": "abVXuOL7HugT"
      },
      "execution_count": null,
      "outputs": []
    },
    {
      "cell_type": "code",
      "source": [
        "# we now create the constraints relative to the cycles that are present:\n",
        "def cycles_constraints(links):\n",
        "  clauses=[]\n",
        "  graph = graph_representation(links, points)\n",
        "  cycles = find_all_cycles(graph)\n",
        "  for e in cycles:\n",
        "    list_i=[]\n",
        "    for i in e:\n",
        "      list_i.append(-v(i, links))\n",
        "    clauses.append(list_i)\n",
        "  return clauses"
      ],
      "metadata": {
        "id": "1KWeA1jyH_GA"
      },
      "execution_count": null,
      "outputs": []
    },
    {
      "cell_type": "markdown",
      "source": [
        "## *No isolation*\n",
        "\n",
        "We define a function that creates a list of clauses in order to not have any point that is not linked to any other point.\n",
        "\n",
        "If a point is isolated, we add the constraint\n",
        "\n",
        " $$\\neg{link_1} \\land {link_1} $$\n",
        "\n",
        "  that is never satisfied, so the SAT solver won't find any solution."
      ],
      "metadata": {
        "id": "LB7_07pqyurv"
      }
    },
    {
      "cell_type": "code",
      "source": [
        "def constraints_isolation(links):\n",
        "  clauses = []\n",
        "  graph = graph_representation(links,points)\n",
        "  for i in graph:\n",
        "    if len(graph[i]) == 0:  #in this way it is impossible to satisfy the constraint\n",
        "      clauses.append([-1])\n",
        "      clauses.append([1])\n",
        "    else:\n",
        "      clauses.append([v((i, graph[i][j]), links) for j in range(len(graph[i]))])\n",
        "\n",
        "  return clauses\n",
        "\n"
      ],
      "metadata": {
        "id": "ZIapchAzqSGh"
      },
      "execution_count": null,
      "outputs": []
    },
    {
      "cell_type": "markdown",
      "source": [
        "## *Exactly $n_{points} - 1$ links*\n",
        "\n",
        "With the following function we create a list of hard clauses that guarantees that exactly $n_{points} - 1$ links are present in the final solution.\n",
        "This function is the combination of having at most k links and at least k links.\n",
        "\n",
        "In order to do so, we previously define a function that finds all the combinations (without significance of the order) of k elements among n elements."
      ],
      "metadata": {
        "id": "G76p9ejz3paz"
      }
    },
    {
      "cell_type": "code",
      "source": [
        "#we define a function that finds all the combination of k numbers among n numbers, n>k\n",
        "def find_combinations(sequence, k):\n",
        "    # Ensure k is not greater than the length of the sequence\n",
        "    if k > len(sequence):\n",
        "        raise ValueError(\"k cannot be greater than the length of the sequence.\")\n",
        "        return None\n",
        "    # Use itertools.combinations to find all combinations of k numbers\n",
        "    combinations_list = list(combinations(sequence, k))\n",
        "\n",
        "    return combinations_list"
      ],
      "metadata": {
        "id": "YdrSOb4zgqnm"
      },
      "execution_count": null,
      "outputs": []
    },
    {
      "cell_type": "code",
      "source": [
        "def exactly_l_links(links):\n",
        "  clauses = []\n",
        "  sequence = list(range(1, len(links) + 1))\n",
        "  if len(sequence) <= len(points) - 1: #in this case I want all the links\n",
        "    clauses.append([i for i in sequence])\n",
        "  else:\n",
        "    combination_at_least = find_combinations(sequence, len(links) - (len(points)-1) + 1 )\n",
        "    for i in combination_at_least:\n",
        "      clauses.append([j for j in i])\n",
        "    combination_at_most = find_combinations(sequence, len(points))\n",
        "    for i in combination_at_most:\n",
        "      clauses.append([-j for j in i])\n",
        "  return clauses\n",
        ""
      ],
      "metadata": {
        "id": "ApnFM1ahjmYL"
      },
      "execution_count": null,
      "outputs": []
    },
    {
      "cell_type": "markdown",
      "source": [
        "## *Weights of the links*\n",
        "\n",
        "In order to find the solution with minimum length, we need to associate some weights to each link and we decided to give to each link the weight that is its length, with a minus. This is because with the maxSAT solver that we are going to use, the solution that is chosen is the one that leaves out the links with the minimum weight. Instead, in this case we want to choose the links that have less length, and this is the reason of the presence of the minus sign.\n",
        "\n",
        "With this function we create a list of soft clauses.\n",
        "\n",
        "For example, if the lenght of the third link is 4 and the length of the fifth link is 1, we create the clauses:\n",
        "\n",
        "$$[link_3, weight=-4]$$\n",
        "$$[link_5, weight=-1]$$\n",
        "\n",
        "In this way, if the solver has to choose between the two links, it will keep the $link_5$ that has length 1, since if it leaves out the $link_3$ it will have a minor weight."
      ],
      "metadata": {
        "id": "UNUGDuO04g8G"
      }
    },
    {
      "cell_type": "code",
      "source": [
        "# We want to associate to each link the weight of its length, in order to minimize the length of the problem when the link is present\n",
        "#rc2.add_clause([1], weight=1)\n",
        "\n",
        "def weights_links(links):\n",
        "  clauses_weights = []\n",
        "  for edge in links:\n",
        "    clauses_weights.append(([v(edge,links)], -abs(edge[0][0] - edge[1][0] + edge[0][1] - edge[1][1] )))\n",
        "  return clauses_weights\n"
      ],
      "metadata": {
        "id": "jrrnboRLxo2m"
      },
      "execution_count": null,
      "outputs": []
    },
    {
      "cell_type": "markdown",
      "source": [
        "## *Yashi configuration solution*\n",
        "\n",
        "With this function we implement a maxSAT solver that uses all the clauses that were created with the previous functions to find a solution of the Yashi configuration. If the configuration has no solution, it returns an error.\n",
        "\n",
        "We also define a function that creates the graphical representation of the solution.\n"
      ],
      "metadata": {
        "id": "mB2spIOW68uu"
      }
    },
    {
      "cell_type": "code",
      "source": [
        "def solver_Yashi_configuration(links):\n",
        "  clauses_crossing = vectors_crossing_constraints(links)\n",
        "  clauses_cycles = cycles_constraints(links)\n",
        "  clauses_isolation = constraints_isolation(links)\n",
        "  clauses_n_links = exactly_l_links(links)\n",
        "  hard_clauses = clauses_crossing + clauses_cycles + clauses_isolation + clauses_n_links\n",
        "\n",
        "  soft_clauses = weights_links(links)\n",
        "\n",
        "  rc2 = RC2(WCNF())\n",
        "  for i in hard_clauses:\n",
        "    rc2.add_clause(i)\n",
        "  for j in soft_clauses:\n",
        "    rc2.add_clause(j[0], j[1])\n",
        "\n",
        "  model = rc2.compute()\n",
        "\n",
        "  if model == None:\n",
        "    print('Error: this configuration of the Yashi game has no solution. Try another configuration!')\n",
        "    return None\n",
        "\n",
        "  return model"
      ],
      "metadata": {
        "id": "mP6wgvf3dMiQ"
      },
      "execution_count": null,
      "outputs": []
    },
    {
      "cell_type": "code",
      "source": [
        "def graphical_implementation_of_solution(n, initial_points, index, links):\n",
        "    if index == None:\n",
        "      print( 'There is no solution, hence we cannot represent it')\n",
        "      return None\n",
        "    # Create a figure and axis\n",
        "    fig, ax = plt.subplots()\n",
        "\n",
        "    # Plot vertical grid lines\n",
        "    for i in range(n + 1):\n",
        "        ax.axvline(x=i, color='#C1CDCD', linestyle='--', linewidth=1)\n",
        "\n",
        "    # Plot horizontal grid lines\n",
        "    for i in range(n + 1):\n",
        "        ax.axhline(y=i, color='#C1CDCD', linestyle='--', linewidth=1)\n",
        "\n",
        "    # Set axis limits and labels\n",
        "    ax.set_xlim(0, n)\n",
        "    ax.set_ylim(0, n)\n",
        "    ax.set_xticks(range(n + 1))\n",
        "    ax.set_yticks(range(n + 1))\n",
        "\n",
        "\n",
        "    # Remove axis labels\n",
        "    ax.set_xticklabels([])\n",
        "    ax.set_yticklabels([])\n",
        "\n",
        "    # Display the grid\n",
        "    plt.grid(True)\n",
        "\n",
        "    for point in initial_points:\n",
        "        x, y = point\n",
        "        ax.scatter(x, y, color='black', marker='o')\n",
        "\n",
        "    links_present = []\n",
        "    for i in index:\n",
        "      if i > 0:\n",
        "        l = find_link(i, links)\n",
        "        links_present.append(l)\n",
        "\n",
        "    for line in links_present:\n",
        "        ax.plot([line[0][0], line[1][0]], [line[0][1], line[1][1]], color='#242424', linewidth=1.5)\n",
        "\n",
        "    plt.show()"
      ],
      "metadata": {
        "id": "FRUZ5onsi-r5"
      },
      "execution_count": null,
      "outputs": []
    },
    {
      "cell_type": "markdown",
      "source": [
        "# *Example with a grid $6 \\times 6$ and 11 points*\n",
        "\n",
        "We try our algorithm to see if it works with a grid $6 \\times 6$ and 11 points. We will first show the initial configuration with only the points, and then our final solution. We will set a random seed for recreation."
      ],
      "metadata": {
        "id": "nnt30nHd8F6b"
      }
    },
    {
      "cell_type": "code",
      "source": [
        "random.seed(124)\n",
        "points, links = random_start(n=6, n_points=11)\n",
        "graphical_implementation(6, points)\n"
      ],
      "metadata": {
        "id": "tKTwoNSIhQwi"
      },
      "execution_count": null,
      "outputs": []
    },
    {
      "cell_type": "code",
      "source": [
        "s=solver_Yashi_configuration(links)\n",
        "graphical_implementation_of_solution(6, points, s, links)"
      ],
      "metadata": {
        "id": "VXNPv9dIp_Gl"
      },
      "execution_count": null,
      "outputs": []
    },
    {
      "cell_type": "markdown",
      "source": [
        "# *Example with no solution*\n",
        "\n",
        "We show also an example where there is no solution; in this case the reason is that there is one point that is not linked to any other point."
      ],
      "metadata": {
        "id": "wBn4UfygDsY9"
      }
    },
    {
      "cell_type": "code",
      "source": [
        "random.seed(12)\n",
        "points, links = random_start(n=6, n_points=11)\n",
        "\n",
        "graphical_implementation(6, points)\n",
        "s=solver_Yashi_configuration(links)\n",
        "graphical_implementation_of_solution(6, points, s, links)\n",
        "\n"
      ],
      "metadata": {
        "id": "gkZjQS2W_o8j"
      },
      "execution_count": null,
      "outputs": []
    },
    {
      "cell_type": "markdown",
      "source": [
        "# *Game*\n",
        "\n",
        "You can now customize the size of the grid and the number of points. Let's see if you can tell if a configuration of the Yashi game has or not a solution!"
      ],
      "metadata": {
        "id": "iAC8W8d5Jb1w"
      }
    },
    {
      "cell_type": "code",
      "source": [
        "random.seed(122)\n",
        "n = int(input('Please insert the size of the grid (the number must be a positive integer bigger than 2): '))\n",
        "n_points = int(input('Now insert the number of points you want to play with (the number must be a positive integer bigger than 2): '))\n",
        "\n",
        "while n < 3:\n",
        "  print(\"This number is too low, let's try with something else!\")\n",
        "  n = int(input('Please insert the size of the grid: '))\n",
        "\n",
        "while n_points <= n or n_points > (n-1)**2:\n",
        "   print(\"This number is too low or too high, let's try with something else!\")\n",
        "   n_points = int(input('Please insert the number of points you want to play with: '))\n",
        "\n",
        "points, links = random_start(n, n_points)\n",
        "\n",
        "print('This is the configuration you are going to play with.')\n",
        "graphical_implementation(n, points)\n",
        "\n",
        "answer = input('Can you tell me if there is a solution? Answer yes or no: ')\n",
        "\n",
        "answer = answer.lower()\n",
        "possible_answers = ['yes', 'no']\n",
        "while answer not in possible_answers:\n",
        "  print(\"I'm sorry, can you tell me again your answer? Please be sure to write just yes or no\")\n",
        "  answer = input('Your answer is: ')\n",
        "  answer = answer.lower()\n",
        "\n",
        "s = solver_Yashi_configuration(links)\n",
        "\n",
        "if answer == 'yes':\n",
        "  if s != None:\n",
        "    print('You are right! There exist a solution for this configuration. What I have found is the solution with minimum length, but there could exist other solutions!')\n",
        "    graphical_implementation_of_solution(n, points, s, links)\n",
        "  else:\n",
        "    print(\"I'm sorry :( There are no solution for this configuration of Yashi game. Try again\")\n",
        "\n",
        "if answer == 'no':\n",
        "  if s != None:\n",
        "    print(\"I'm sorry :( There is indeed at least a solution for this configuration of Yashi game. Try again!\")\n",
        "    print(\"A solution that I have found is the solution with minimum length.\")\n",
        "    graphical_implementation_of_solution(n, points, s, links)\n",
        "  else:\n",
        "    print('You are right! There exist no solution for this configuration.')\n"
      ],
      "metadata": {
        "id": "0faXyyWIEjnm"
      },
      "execution_count": null,
      "outputs": []
    }
  ]
}